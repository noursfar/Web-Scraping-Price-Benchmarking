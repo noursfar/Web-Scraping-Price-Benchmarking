{
 "cells": [
  {
   "cell_type": "markdown",
   "id": "f06a2cf7",
   "metadata": {},
   "source": [
    "Elaborated by: Nour Sfar\n",
    "\n",
    "Project Phase: n°4 (Web Scraping and Data Cleaning)\n",
    "\n",
    "Purpose of this phase of the project: collecting the necessary data for the final project phase.\n",
    "Chosen Product: Wireless Headphones\n",
    "Scraped Website: MyteK.tn"
   ]
  },
  {
   "cell_type": "markdown",
   "id": "16494e76",
   "metadata": {},
   "source": [
    "# Importing the necessary modules"
   ]
  },
  {
   "cell_type": "code",
   "execution_count": 67,
   "id": "724f6a6c",
   "metadata": {},
   "outputs": [],
   "source": [
    "import re # Import the 're' module, which provides support for regular expressions\n",
    "import math as mt  # module for mathematical functions\n",
    "import pandas as pd  # module for data manipulation and analysis\n",
    "import requests   # module for making HTTP requests\n",
    "from bs4 import BeautifulSoup  # module for parsing HTML documents"
   ]
  },
  {
   "cell_type": "markdown",
   "id": "1e2c59b0",
   "metadata": {},
   "source": [
    "Now that we have imported the necessary modules, we can start using them in our code to perform various tasks, such as web scraping, data analysis, and more."
   ]
  },
  {
   "cell_type": "markdown",
   "id": "d6c677dc",
   "metadata": {},
   "source": [
    "# Creating a list of URLs to scrape"
   ]
  },
  {
   "cell_type": "markdown",
   "id": "ba4ea853",
   "metadata": {},
   "source": [
    "First, we create a list of URLs for the search term 'Écouteurs Sans Fil' by looping through the page numbers 1 to 10 and appending the URL to the list.\n",
    "Next, we create a list of URLs for the search term 'Ecouteurs bluetooth' by looping through the page numbers 1 to 5 and appending the URL to the list.\n",
    "Finally, we create a list of URLs for the category 'earbuds' by loopingthrough the page numbers 1 to 6 and appending the URL to the list."
   ]
  },
  {
   "cell_type": "code",
   "execution_count": 4,
   "id": "e52af921",
   "metadata": {},
   "outputs": [],
   "source": [
    "#MYTEK\n",
    "URLS=[]  # an empty list to store the URLs\n",
    "for i in range (1,11) :\n",
    "    url1='https://www.mytek.tn/catalogsearch/result/index/?p='+str(i)+'&q=%C3%89couteurs+Sans+Fil'\n",
    "    URLS.append(url1)\n",
    "for i in range (1,6) :\n",
    "    url2='https://www.mytek.tn/catalogsearch/result/index/?p='+str(i)+'&q=Ecouteurs+bluetooth'\n",
    "    URLS.append(url2)\n",
    "for i in range (1,7) :\n",
    "    url3='https://www.mytek.tn/image-son/son-numerique/earbuds.html?p='+str(i)\n",
    "    URLS.append(url3)"
   ]
  },
  {
   "cell_type": "markdown",
   "id": "02d5dded",
   "metadata": {},
   "source": [
    "For the next cell I had displayed a list of URLs for testing purposes"
   ]
  },
  {
   "cell_type": "code",
   "execution_count": 5,
   "id": "fa8d6037",
   "metadata": {},
   "outputs": [],
   "source": [
    "#URLS  "
   ]
  },
  {
   "cell_type": "markdown",
   "id": "db4a5dc6",
   "metadata": {},
   "source": [
    "Now we have a list of URLs that we can use to scrape data from the MyTek website. We'll use the BeautifulSoup library to extract the desired information from the HTML content of each URL."
   ]
  },
  {
   "cell_type": "markdown",
   "id": "2bd8b799",
   "metadata": {},
   "source": [
    "# Scrapping phase"
   ]
  },
  {
   "cell_type": "code",
   "execution_count": 31,
   "id": "0a3b05d7",
   "metadata": {},
   "outputs": [],
   "source": [
    "# Initializing empty lists to store the extracted data\n",
    "list_ref=[]  # a list to store the product reference \n",
    "list_price=[]  # a list to store the product prices\n",
    "list_name=[]  # a list to store the product names\n",
    "list_avail=[]  # a list to store the product availability status\n",
    "list_feat=[]  # a list to store the product features\n",
    "\n",
    "# Looping through the list of URLs and extracting data from each page\n",
    "for u in URLS:\n",
    "    response= requests.get(u) # sending an HTTP request to the URL\n",
    "    if response.ok: # ensuring that the link is scrappable (status code = 200)\n",
    "        \n",
    "        #print(response) (for testing purposes)\n",
    "        soup=BeautifulSoup(response.text,\"html.parser\")  # parsing the HTML content using BeautifulSoup\n",
    "        title=soup.find('title')  # extracting the page title (not used in this code)\n",
    "        lists=soup.find_all('li',class_='item product product-item')  # finding all the product items on the page\n",
    "        \n",
    "        # extracting the product reference number, price, name, availability status, and features        \n",
    "        for i in lists : \n",
    "            r=i.find(\"div\",class_=\"skuDesktop\").text\n",
    "            \n",
    "            if r not in list_ref:  \n",
    "            # checking if the product reference number is not already in the list, caz we'r scrapping many links so we may scrape the same product from different links\n",
    "            \n",
    "                p=i.find(\"span\",class_=\"price\").text\n",
    "                # Find the text content of the HTML element with class \"price\" inside the element i\n",
    "                n=i.find('a',class_='product-item-link').text\n",
    "                # Find the text content of the HTML element with class \"product-item-link\" inside the element i\n",
    "                a=i.find(\"div\",class_=\"card-body\").text  \n",
    "                # Find the text content of the HTML element with class \"card-body\" inside the element i\n",
    "                f=i.find(\"div\",class_=\"strigDesc\").next.text  \n",
    "                # Find the next sibling element after the HTML element with class \"strigDesc\" inside the element i, and get its text content\n",
    "                \n",
    "                # adding the extracted data to their respective lists\n",
    "                list_ref.append(r)\n",
    "                list_price.append(p)\n",
    "                list_name.append(n)\n",
    "                list_avail.append(a) \n",
    "                list_feat.append(f)"
   ]
  },
  {
   "cell_type": "markdown",
   "id": "4e4ba860",
   "metadata": {},
   "source": [
    "Now we have extracted the data from all the URLs in the list, and stored it in separate lists.\n",
    "Before combining the data to create a DataFrame, we will first need to clean our data and extract more detailed characteristics from the features and product name lists."
   ]
  },
  {
   "cell_type": "markdown",
   "id": "f949888f",
   "metadata": {},
   "source": [
    "# Data Cleaning Phase"
   ]
  },
  {
   "cell_type": "code",
   "execution_count": 32,
   "id": "6549b1d0",
   "metadata": {},
   "outputs": [],
   "source": [
    "# In order to filter out non-headphone products, it is necessary to remove them from the lists.\n",
    "for i in [193,232,252]: # indexes of non-headphone products\n",
    "    \n",
    "    list_ref.pop(i) # Removing the reference to these products from the list of references.\n",
    "    list_price.pop(i) # Removing the price to these products from the list of prices.\n",
    "    list_name.pop(i)  # Removing the name to these products from the list of names.\n",
    "    list_avail.pop(i)  # Removing the availability to these products from the list of availabilities.\n",
    "    list_feat.pop(i)  # Removing the feature to these products from the list of features."
   ]
  },
  {
   "cell_type": "code",
   "execution_count": 33,
   "id": "739697b6",
   "metadata": {},
   "outputs": [],
   "source": [
    "# Simplifying the writing of prices to convert the price type from str to int or float.\n",
    "# At first, we had these types of writings ('1\\xa0099,000\\xa0DT' , '289,000\\xa0DT')\n",
    "for i in range(len(list_price)):\n",
    "    list_price[i]=list_price[i].replace('DT','')\n",
    "    list_price[i]=list_price[i].replace('\\xa0','')\n",
    "    list_price[i]=list_price[i].replace(',000','')\n",
    "    list_price[i]=list_price[i].replace(',','.')\n",
    "# Now, we have these writings ('1099' , '289')"
   ]
  },
  {
   "cell_type": "code",
   "execution_count": 34,
   "id": "1d5ec3f5",
   "metadata": {},
   "outputs": [],
   "source": [
    "# Converting the price type from str to int or float.\n",
    "for i in range(len(list_price)): # Looping through the list of prices.\n",
    "    list_price[i]=float(list_price[i]) # convert the string to a float\n",
    "    list_price[i]=round(list_price[i]) # convert the string to a int using the rounded"
   ]
  },
  {
   "cell_type": "markdown",
   "id": "37f85370",
   "metadata": {},
   "source": [
    "# Extracting more detailed characteristics from the features and product name lists"
   ]
  },
  {
   "cell_type": "code",
   "execution_count": 35,
   "id": "ee249ce9",
   "metadata": {},
   "outputs": [],
   "source": [
    "# Classifing each product as either \"Earbuds\" or \"Earhelmet\" to differentiate between the two types of headphones.\n",
    "list_type=[] # Create an empty list to store the results\n",
    "ln=len(list_name)\n",
    "for i in range (ln):\n",
    "    x=list_name[i].split()\n",
    "    #print(x) ( for testing)\n",
    "    if x[0] in [\"Casque\",\"Micro\"]:\n",
    "        list_type.append(\"Casque Bluetooth\")\n",
    "    else:\n",
    "        list_type.append(\"EarBuds\")"
   ]
  },
  {
   "cell_type": "code",
   "execution_count": 36,
   "id": "25c89803",
   "metadata": {},
   "outputs": [],
   "source": [
    "# Extracting brand name of each Pproduct\n",
    "list_brand=[]  # Create an empty list to store the results\n",
    "ln=len(list_name)\n",
    "for i in range (ln):\n",
    "    x=list_name[i].split()\n",
    "    if \"Hi-Fi\" in x:\n",
    "        j=x.index(\"Hi-Fi\")\n",
    "        list_brand.append(x[j+1])\n",
    "    elif \"Headset\" in x:\n",
    "        j=x.index(\"Headset\")\n",
    "        list_brand.append(x[j+1])\n",
    "    elif \"Fantasy\" in x:\n",
    "        list_brand.append(\"Fantasy\") \n",
    "    elif \"5\" in x:\n",
    "        list_brand.append(\"5 Plus Pro\") \n",
    "    elif \"SAMSUNG\" in x:\n",
    "        j=x.index(\"SAMSUNG\")\n",
    "        list_brand.append(x[j+1]+\" \"+x[j+2]+\" \"+x[j+3])\n",
    "    elif \"OPPO\" in x:\n",
    "        j=x.index(\"OPPO\")\n",
    "        list_brand.append(x[j]+\" \"+x[j+1]+\" \"+x[j+2]+\" \"+x[j+3])\n",
    "    elif \"APPLE\" in x:\n",
    "        j=x.index(\"APPLE\")\n",
    "        list_brand.append(x[j]+\" \"+x[j+1]+\" \"+x[j+2]+\" \"+x[j+3])  \n",
    "    elif \"XIAOMI\" in x:\n",
    "        j=x.index(\"XIAOMI\")\n",
    "        list_brand.append(x[j]+\" \"+x[j+1]+\" \"+x[j+2]+\" \"+x[j+3])        \n",
    "    elif \"NOKIA\" in x:\n",
    "        j=x.index(\"NOKIA\")\n",
    "        list_brand.append(x[j]+\" \"+x[j+1]+\" \"+x[j+2])  \n",
    "    elif \"JBL\" in x:\n",
    "        j=x.index(\"JBL\")\n",
    "        list_brand.append(x[j]+\" \"+x[j+1]+\" \"+x[j+2])          \n",
    "    elif \"LENOVO\" in x:\n",
    "        j=x.index(\"LENOVO\")\n",
    "        list_brand.append(x[j]+\" \"+x[j+1])\n",
    "    elif \"BELKIN\" in x:\n",
    "        j=x.index(\"BELKIN\")\n",
    "        list_brand.append(x[j]+\" \"+x[j+1]) \n",
    "    elif \"SONY\" in x:\n",
    "        j=x.index(\"SONY\")\n",
    "        list_brand.append(x[j]+\" \"+x[j+1])\n",
    "    elif \"HAMA\" in x:\n",
    "        list_brand.append(\"HAMA\")        \n",
    "    elif \"Pliable\" in x:\n",
    "        j=x.index(\"Pliable\")\n",
    "        list_brand.append(x[j+1])        \n",
    "    elif \"KSIX\" in x:\n",
    "        list_brand.append(\"KSIX\")\n",
    "    elif \"YOOKIE\" in x:\n",
    "        list_brand.append(\"YOOKIE\")          \n",
    "    elif \"HP\" in x:\n",
    "        list_brand.append(\"HP\") \n",
    "    elif \"PHILIPS\" in x:\n",
    "        list_brand.append(\"PHILIPS\") \n",
    "    elif \"REDRAGON\" in x:\n",
    "        list_brand.append(\"REDRAGON\")  \n",
    "    elif \"SPIRIT\" in x:\n",
    "        list_brand.append(\"SPIRIT OF GAMER\") \n",
    "    elif \"MI\" in x:\n",
    "        list_brand.append(\"XIAOMI\")          \n",
    "    elif \"BC\" in x:\n",
    "        list_brand.append(\"BC MASTER\")\n",
    "    elif \"ENERGY\" in x:\n",
    "        list_brand.append(\"ENERGY SISTEM\")             \n",
    "    elif \"Sans\" in x:\n",
    "        j=x.index(\"Sans\")\n",
    "        list_brand.append(x[j+2])\n",
    "    elif \"sans\" in x:\n",
    "        j=x.index(\"sans\")\n",
    "        list_brand.append(x[j+2])\n",
    "    elif \"SANS\" in x:\n",
    "        j=x.index(\"SANS\")\n",
    "        list_brand.append(x[j+2])\n",
    "    elif \"Ultra\" in x:\n",
    "        j=x.index(\"Ultra\")\n",
    "        list_brand.append(x[j+2])        \n",
    "    elif \"Casque\" in x:\n",
    "        j=x.index(\"Casque\")\n",
    "        list_brand.append(x[j+1])                \n",
    "    elif x[1]==\"Bluetooth\":\n",
    "        list_brand.append(x[2])\n",
    "    else:\n",
    "        list_brand.append(x[1])"
   ]
  },
  {
   "cell_type": "markdown",
   "id": "7deeef33",
   "metadata": {},
   "source": [
    "For the next cell i had displayed \"lis_name\" in order to identify the appropriate code to extract the brand names."
   ]
  },
  {
   "cell_type": "code",
   "execution_count": 37,
   "id": "78c03fff",
   "metadata": {},
   "outputs": [],
   "source": [
    "#list_name"
   ]
  },
  {
   "cell_type": "markdown",
   "id": "f7aa10ab",
   "metadata": {},
   "source": [
    "To ensure the accuracy of the list of brand names, it was necessary to verify each element (one by one) to confirm that every appended brand name was correct So i had displayed \"list_brand\" in the next cell."
   ]
  },
  {
   "cell_type": "code",
   "execution_count": 38,
   "id": "c9f63300",
   "metadata": {},
   "outputs": [],
   "source": [
    "#list_brand"
   ]
  },
  {
   "cell_type": "code",
   "execution_count": 39,
   "id": "4fa0e9d3",
   "metadata": {},
   "outputs": [],
   "source": [
    "# It was necessary to correct some of the brand names that were inaccurately appended to the list\n",
    "i=0\n",
    "for e in list_brand:\n",
    "    i+=1\n",
    "    if e in [\"Sport\",\"Earbuds\",\"Magnétiques\",\"avec\"]:\n",
    "        list_brand[i-1]=\"sans marque\"\n",
    "    elif e==\"Bluetooth\":\n",
    "        list_brand[i-1]=\"TWS\""
   ]
  },
  {
   "cell_type": "code",
   "execution_count": 57,
   "id": "056c448f",
   "metadata": {},
   "outputs": [],
   "source": [
    "# Extracting the color of each product\n",
    "list_colo=[]  # Create an empty list to store the results\n",
    "for e in list_name:\n",
    "    x=e.split(\" - \")\n",
    "    if len(x)==2:\n",
    "        list_colo.append(x[1])\n",
    "    else:\n",
    "        z=x[0].split()\n",
    "        list_colo.append(z[-1])\n",
    "# Some products do not have an indicated color.        \n",
    "for i in range(len(list_colo)):\n",
    "    if list_colo[i] in [\"Lipstick\",\"HP-03\",\"mémoire\",\"Pro(MXY72LL-A)\"]:\n",
    "        list_colo[i]=None "
   ]
  },
  {
   "cell_type": "markdown",
   "id": "b7f8bb67",
   "metadata": {},
   "source": [
    "Some here, in order to identify the appropriate code to extract the colors , it was necessary to review the list of product names so i had displayed \"list_name\" in the next cell."
   ]
  },
  {
   "cell_type": "code",
   "execution_count": 59,
   "id": "26333d0a",
   "metadata": {},
   "outputs": [],
   "source": [
    "#list_name"
   ]
  },
  {
   "cell_type": "markdown",
   "id": "7b98586a",
   "metadata": {},
   "source": [
    "The gamer option is mentioned in the features of each product, so for the next cell I will simply loop through the features list and determine if the product is intended for gamers or not."
   ]
  },
  {
   "cell_type": "code",
   "execution_count": 42,
   "id": "f7b403cb",
   "metadata": {},
   "outputs": [],
   "source": [
    "list_gamer=[]  # Create an empty list to store the results\n",
    "for e in list_feat:\n",
    "    if \"Gamer\" in e:\n",
    "        list_gamer.append(\"YES\")\n",
    "    else:\n",
    "        list_gamer.append(\"no\")"
   ]
  },
  {
   "cell_type": "code",
   "execution_count": 93,
   "id": "1edac427",
   "metadata": {},
   "outputs": [],
   "source": [
    "# Extracting the bluetooth generation of each product\n",
    "list_blu=[]  # Create an empty list to store the results\n",
    "pattern1 = r\"Bluetooth\\s+(\\d(\\.\\d)?)\"  # Define a regular expression pattern to extract the Bluetooth generation number\n",
    "pattern2 = r\"Bluetooth®\\s+(\\d(\\.\\d)?)\"\n",
    "for e in list_feat:\n",
    "    match1 = re.search(pattern1, e)\n",
    "    match2 = re.search(pattern2, e)\n",
    "    if match1:\n",
    "        blu_gen= match1.group(1) # extracting the matched text using the 'group()' method\n",
    "        list_blu.append(blu_gen) # adding extracted generation to the list\n",
    "    elif match2:\n",
    "        blu_gen= match2.group(1) \n",
    "        list_blu.append(blu_gen)       \n",
    "    else:\n",
    "        list_blu.append(None)  # if the Bluetooth generation number not indicated in features description we'll append None in the list\n",
    "            \n",
    "# PS:the number1(argument of the 'group()' method) refers to the index of the capturing group wich is '(\\d(\\.\\d)?)' in this case in the regular expression pattern"
   ]
  },
  {
   "cell_type": "markdown",
   "id": "2b39c991",
   "metadata": {},
   "source": [
    "Also here, in order to identify the appropriate code to extract the bluetooth generation, it was necessary to review the list of product features so i had displayed \"list_feat\" in the next cell"
   ]
  },
  {
   "cell_type": "code",
   "execution_count": null,
   "id": "cb9004d9",
   "metadata": {},
   "outputs": [],
   "source": [
    "#list_feat"
   ]
  },
  {
   "cell_type": "code",
   "execution_count": 81,
   "id": "23f75471",
   "metadata": {},
   "outputs": [],
   "source": [
    "#Extracting the spread distance of each product\n",
    "list_sp=[]\n",
    "pattern1 = r\"Distance de propagation:\\s*([\\d\\.]+)\\s*mètres\"\n",
    "pattern2 = r\"Portée de transmission:\\s?(\\d+)m\"\n",
    "pattern3 = r\"Distance de fonctionnement:\\s?(\\d+)m\"\n",
    "for e in list_feat:\n",
    "    match1 = re.search(pattern1, e)\n",
    "    match2 = re.search(pattern2, e)\n",
    "    match3 = re.search(pattern3, e)\n",
    "    if match1:\n",
    "        spread= match1.group(1)\n",
    "        list_sp.append(spread)\n",
    "    elif match2:\n",
    "        spread= match2.group(1)\n",
    "        list_sp.append(spread)\n",
    "    elif match3:\n",
    "        spread= match3.group(1)\n",
    "        list_sp.append(spread)\n",
    "    else:\n",
    "        list_sp.append(None) # if the spread not indicated in features description we'll append None in the list"
   ]
  },
  {
   "cell_type": "markdown",
   "id": "82ec16c9",
   "metadata": {},
   "source": [
    "Finally, in order to identify the appropriate code to extract the Spread distance of each product, it was necessary to review the list of product features so i had displayed \"list_feat\" in the next cell"
   ]
  },
  {
   "cell_type": "code",
   "execution_count": 96,
   "id": "8901dde5",
   "metadata": {},
   "outputs": [],
   "source": [
    "#list_feat"
   ]
  },
  {
   "cell_type": "markdown",
   "id": "37556472",
   "metadata": {},
   "source": [
    "# Creating Our Dataframe"
   ]
  },
  {
   "cell_type": "code",
   "execution_count": 107,
   "id": "38d6c7f9",
   "metadata": {},
   "outputs": [],
   "source": [
    "# Create a dictionary with keys 'Reference', 'type', 'Brand', 'Color', 'Price(DT)', 'Availablity', 'features', and values equal to the corresponding lists\n",
    "d={'Reference':list_ref,'type':list_type,'Gamer':list_gamer,'Brand':list_brand,'Bluetooth Gen':list_blu,'Spread':list_sp,'Color':list_colo,'Availablity':list_avail,'Price(DT)':list_price,'features':list_feat}\n",
    "\n",
    "# Convert the dictionary to a pandas DataFrame\n",
    "df = pd.DataFrame(d)"
   ]
  },
  {
   "cell_type": "markdown",
   "id": "efa2d7a5",
   "metadata": {},
   "source": [
    "# Exporting The Dataframe"
   ]
  },
  {
   "cell_type": "code",
   "execution_count": 108,
   "id": "670d74b8",
   "metadata": {},
   "outputs": [],
   "source": [
    "df.to_excel(\"Scrap_Headphones.xlsx\",index=False)  # Save the DataFrame to an Excel file named \"Scrap_Headphones.xlsx\"\n",
    "\n",
    "#Ps: The 'index=False' argument tells pandas not to include the row index in the output file"
   ]
  }
 ],
 "metadata": {
  "kernelspec": {
   "display_name": "Python 3 (ipykernel)",
   "language": "python",
   "name": "python3"
  },
  "language_info": {
   "codemirror_mode": {
    "name": "ipython",
    "version": 3
   },
   "file_extension": ".py",
   "mimetype": "text/x-python",
   "name": "python",
   "nbconvert_exporter": "python",
   "pygments_lexer": "ipython3",
   "version": "3.9.13"
  }
 },
 "nbformat": 4,
 "nbformat_minor": 5
}
